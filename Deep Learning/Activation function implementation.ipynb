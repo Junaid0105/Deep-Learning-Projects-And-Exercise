{
 "cells": [
  {
   "cell_type": "code",
   "execution_count": 1,
   "id": "7080c5f6",
   "metadata": {},
   "outputs": [],
   "source": [
    "import math\n",
    "\n",
    "# sigmoid function---\n",
    "\n",
    "def sigmoid(x):\n",
    "    return 1/(1 + math.exp(-x))\n"
   ]
  },
  {
   "cell_type": "code",
   "execution_count": 7,
   "id": "037cc3af",
   "metadata": {},
   "outputs": [
    {
     "data": {
      "text/plain": [
       "7.124576406741285e-218"
      ]
     },
     "execution_count": 7,
     "metadata": {},
     "output_type": "execute_result"
    }
   ],
   "source": [
    "sigmoid(-500)"
   ]
  },
  {
   "cell_type": "code",
   "execution_count": 8,
   "id": "88e3be1f",
   "metadata": {},
   "outputs": [],
   "source": [
    "# tanh function---\n",
    "def tanh(x):\n",
    "    return ((math.exp(x)-math.exp(-x))/(math.exp(x)+math.exp(-x)))\n"
   ]
  },
  {
   "cell_type": "code",
   "execution_count": 12,
   "id": "7326f757",
   "metadata": {},
   "outputs": [
    {
     "data": {
      "text/plain": [
       "1.0"
      ]
     },
     "execution_count": 12,
     "metadata": {},
     "output_type": "execute_result"
    }
   ],
   "source": [
    "tanh(500)"
   ]
  },
  {
   "cell_type": "code",
   "execution_count": 13,
   "id": "61f9f80e",
   "metadata": {},
   "outputs": [],
   "source": [
    "# ReLU fucntion---\n",
    "#---for hidden layers if you are not sure which activation function to use,\n",
    "#---just use ReLU function as your default choice\n",
    "def relu(x):\n",
    "    return max(0,x)"
   ]
  },
  {
   "cell_type": "code",
   "execution_count": 16,
   "id": "2702d3d3",
   "metadata": {},
   "outputs": [
    {
     "data": {
      "text/plain": [
       "0"
      ]
     },
     "execution_count": 16,
     "metadata": {},
     "output_type": "execute_result"
    }
   ],
   "source": [
    "relu(-100)"
   ]
  },
  {
   "cell_type": "code",
   "execution_count": 17,
   "id": "3e7ca16b",
   "metadata": {},
   "outputs": [],
   "source": [
    "#Leaky function\n",
    "def leaky_relu(x):\n",
    "    return max(0.1*x,x)\n"
   ]
  },
  {
   "cell_type": "code",
   "execution_count": 20,
   "id": "cfb3e103",
   "metadata": {},
   "outputs": [
    {
     "data": {
      "text/plain": [
       "-1.0"
      ]
     },
     "execution_count": 20,
     "metadata": {},
     "output_type": "execute_result"
    }
   ],
   "source": [
    "leaky_relu(-10)"
   ]
  },
  {
   "cell_type": "code",
   "execution_count": null,
   "id": "9761f721",
   "metadata": {},
   "outputs": [],
   "source": []
  }
 ],
 "metadata": {
  "kernelspec": {
   "display_name": "Python 3 (ipykernel)",
   "language": "python",
   "name": "python3"
  },
  "language_info": {
   "codemirror_mode": {
    "name": "ipython",
    "version": 3
   },
   "file_extension": ".py",
   "mimetype": "text/x-python",
   "name": "python",
   "nbconvert_exporter": "python",
   "pygments_lexer": "ipython3",
   "version": "3.9.13"
  }
 },
 "nbformat": 4,
 "nbformat_minor": 5
}
